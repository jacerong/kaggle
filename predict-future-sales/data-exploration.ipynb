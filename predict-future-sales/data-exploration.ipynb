{
 "cells": [
  {
   "cell_type": "markdown",
   "metadata": {},
   "source": [
    "# Data Exploration and Analysis"
   ]
  },
  {
   "cell_type": "markdown",
   "metadata": {},
   "source": [
    "## Project Description"
   ]
  },
  {
   "cell_type": "markdown",
   "metadata": {},
   "source": [
    "[Predict Future Sales](https://www.kaggle.com/c/competitive-data-science-predict-future-sales/) is a Kaggle challenge related to time series. In particular, the proposed task has to do with forecasting the number of products sold in every shop of **1C Company**, a Russian company whose business core revolves around software products. For this purpose, a dataset consisting of daily sales for each (Shop, Item) tuple is provided. These sale records range from January 2013 to October 2015. Instead, the test set corresponds to the monthly amount of items sold in November 2015.\n",
    "\n",
    "To get a sense of the dataset, an overview of its attributes is presented below:\n",
    "\n",
    "* **shop_id**: the identifier of a shop\n",
    "* **shop_name**: the name of a shop\n",
    "* **item_id**: the identifier of a product\n",
    "* **item_name**: the name of a product\n",
    "* **item_category_id**: the identifier of a category. The item category is an \"n:1\" relationship. To put it in other words, a category is a parent entity that has many related items (or children).\n",
    "* **item_category_name**: the description of a category\n",
    "* **item_cnt_day**: the daily selling volume of the product $item\\_id$ in the shop $shop\\_id$\n",
    "* **item_price**: price of the product $item\\_id$ on $date$. (This is the price for a single unit.)\n",
    "* **date**: date in format \"dd.mm.yyyy\"\n",
    "* **date_block_num**: a consecutive index, such that January 2013 is represented as **0** and October 2015 as **33**.\n",
    "\n",
    "In total, there are 2,935,849 daily sales records. The test set comprises of 214,200 (Shop, Item) tuples."
   ]
  },
  {
   "cell_type": "markdown",
   "metadata": {},
   "source": [
    "## 0. Requirements"
   ]
  },
  {
   "cell_type": "markdown",
   "metadata": {},
   "source": [
    "In order to encourage reproducibility, the following is a list of technologies used, as well as their respective version:\n",
    "\n",
    "1. Python **3.7.2**\n",
    "2. NumPy **1.17.2**\n",
    "3. SciPy **1.3.1**\n",
    "4. pandas **0.25.1**\n",
    "5. Matplotlib **3.1.1**"
   ]
  },
  {
   "cell_type": "code",
   "execution_count": null,
   "metadata": {},
   "outputs": [],
   "source": [
    "import json\n",
    "import os\n",
    "import re\n",
    "\n",
    "import matplotlib.pyplot as plt\n",
    "import numpy as np\n",
    "import pandas as pd\n",
    "from IPython.display import display\n",
    "from IPython.display import Javascript\n",
    "from IPython.display import HTML"
   ]
  },
  {
   "cell_type": "code",
   "execution_count": null,
   "metadata": {},
   "outputs": [],
   "source": [
    "CURRENT_PATH = os.path.abspath(os.getcwd())\n",
    "DATA_PATH = os.path.join(CURRENT_PATH, 'data')"
   ]
  },
  {
   "cell_type": "code",
   "execution_count": null,
   "metadata": {},
   "outputs": [],
   "source": [
    "FNAMES = {\n",
    "    'train': 'sales_train.csv',\n",
    "    'items': 'items.csv',\n",
    "    'categories': 'item_categories.csv',\n",
    "    'shops': 'shops.csv',\n",
    "    'share': 'market-share.json'\n",
    "    }\n",
    "\n",
    "FNAMES = {key: os.path.join(DATA_PATH, fname) for key, fname in FNAMES.items()}"
   ]
  },
  {
   "cell_type": "markdown",
   "metadata": {},
   "source": [
    "## 1. Data Preprocessing"
   ]
  },
  {
   "cell_type": "markdown",
   "metadata": {},
   "source": [
    "Let's merge daily sales records with item, category, and shop data to create a more comprehensive reference."
   ]
  },
  {
   "cell_type": "code",
   "execution_count": null,
   "metadata": {},
   "outputs": [],
   "source": [
    "df = pd.read_csv(\n",
    "    FNAMES['train'], usecols=['date_block_num', 'shop_id', 'item_id', 'item_price', 'item_cnt_day']\n",
    "    )\n",
    "\n",
    "df = df.astype({c: (np.float64 if re.search(r'_(?:day|price)$', c) else np.int64) for c in df.columns})\n",
    "df = df.rename(columns={'date_block_num': 'month', 'item_cnt_day': 'daily_amount'})"
   ]
  },
  {
   "cell_type": "code",
   "execution_count": null,
   "metadata": {},
   "outputs": [],
   "source": [
    "categories = pd.read_csv(FNAMES['categories'])\n",
    "\n",
    "items = pd.read_csv(FNAMES['items'])\n",
    "items = pd.merge(items, categories, on='item_category_id', how='inner')\n",
    "\n",
    "shops = pd.read_csv(FNAMES['shops'])"
   ]
  },
  {
   "cell_type": "code",
   "execution_count": null,
   "metadata": {},
   "outputs": [],
   "source": [
    "COLUMNS = [\n",
    "    'month',\n",
    "    'shop_id', 'shop_name',\n",
    "    'item_id', 'item_name', 'item_category_id', 'item_category_name',\n",
    "    'item_price', 'daily_amount']\n",
    "\n",
    "df = pd.merge(df, items, on='item_id', how='inner')\n",
    "df = pd.merge(df, shops, on='shop_id', how='inner')\n",
    "\n",
    "df = df[COLUMNS]"
   ]
  },
  {
   "cell_type": "markdown",
   "metadata": {},
   "source": [
    "## 2. Market Share"
   ]
  },
  {
   "cell_type": "markdown",
   "metadata": {},
   "source": [
    "Let's see how each item category accounts for a share of the total sales."
   ]
  },
  {
   "cell_type": "code",
   "execution_count": null,
   "metadata": {},
   "outputs": [],
   "source": [
    "display(Javascript('''require.config({paths: {google: 'https://www.gstatic.com/charts/loader'}});'''))\n",
    "display(Javascript(filename='share.js'))\n",
    "display(HTML(filename=\"share.css.html\"))"
   ]
  },
  {
   "cell_type": "code",
   "execution_count": null,
   "metadata": {},
   "outputs": [],
   "source": [
    "def draw_market_share(data, width=960, height=400):\n",
    "    \"\"\"Draw a chart representing the market share.\n",
    "    \n",
    "    Please note that this chart is a Javascript visualization.\n",
    "    \n",
    "    Parameters\n",
    "    ----------\n",
    "    data : list\n",
    "        A Python list of lists. Find more regarding its structure at <https://developers.google.com/chart/interactive/docs/gallery/treemap>.\n",
    "        \n",
    "    Source: <https://www.stefaanlippens.net/jupyter-custom-d3-visualization.html>\n",
    "    \"\"\"\n",
    "    display(\n",
    "        Javascript('''\n",
    "            (function(element) {{\n",
    "                require(['share'], function(share) {{\n",
    "                    share(element.get(0), {}, {}, {})\n",
    "                }});\n",
    "            }})(element);\n",
    "            '''.format(json.dumps(data), width, height)\n",
    "        )\n",
    "    )"
   ]
  },
  {
   "cell_type": "code",
   "execution_count": null,
   "metadata": {},
   "outputs": [],
   "source": [
    "def market_share(sales, items_per_category=10):\n",
    "    \"\"\"Compute data for drawing a market share chart.\n",
    "    \n",
    "    The final data structure is highly coupled to the Google Charts library.\n",
    "    \n",
    "    Parameters\n",
    "    ----------\n",
    "    sales : pd.DataFrame\n",
    "    \"\"\"\n",
    "    sales.loc[(sales['daily_amount'] < 0), 'daily_amount'] = 0\n",
    "    sales.loc[(sales['item_price'] < 0), 'item_price'] = 0\n",
    "    \n",
    "    sales['daily_sales'] = sales['daily_amount'] * sales['item_price']\n",
    "    \n",
    "    data = [['Id', 'Parent', 'Total Sales']]\n",
    "    \n",
    "    ancestor = '1C Company'\n",
    "    data.append([ancestor, None, 0])\n",
    "    \n",
    "    data += [\n",
    "        [category, ancestor, None] for category in sales['item_category_name'].drop_duplicates().tolist()\n",
    "        ]\n",
    "    \n",
    "    items = sales.groupby(['item_category_name', 'item_name'])['daily_sales'].sum().reset_index()\n",
    "    items = items[['item_name', 'item_category_name', 'daily_sales']]\n",
    "    items['daily_sales'] = items['daily_sales'].astype(np.int64)\n",
    "    \n",
    "    items = items.sort_values(\n",
    "        by=['item_category_name', 'daily_sales', 'item_name'],\n",
    "        ascending=[True, False, True]\n",
    "        )\n",
    "    \n",
    "    cat, count = None, 0\n",
    "    for item, category, sales in items.values.tolist():\n",
    "        if cat is None or cat != category:\n",
    "            cat, count = category, 0\n",
    "        \n",
    "        if count < (items_per_category - 1):\n",
    "            data.append([item, category, sales])\n",
    "        elif count == (items_per_category - 1):\n",
    "            data.append(['(Others: {})'.format(category), category, sales])\n",
    "        else:\n",
    "            data[-1][2] += sales\n",
    "        \n",
    "        count += 1\n",
    "    \n",
    "    return data"
   ]
  },
  {
   "cell_type": "code",
   "execution_count": null,
   "metadata": {},
   "outputs": [],
   "source": [
    "if not os.path.isfile(FNAMES['share']):\n",
    "    data = market_share(df.copy(deep=True))\n",
    "    \n",
    "    with open(FNAMES['share'], 'w') as f:\n",
    "        json.dump(data, f)"
   ]
  },
  {
   "cell_type": "code",
   "execution_count": null,
   "metadata": {},
   "outputs": [],
   "source": [
    "with open(FNAMES['share']) as f:\n",
    "    data = json.load(f)\n",
    "\n",
    "draw_market_share(data, 968)"
   ]
  },
  {
   "cell_type": "markdown",
   "metadata": {},
   "source": [
    "As depicted in the above chart, selling games for the PS3 console, i.e., the \"Игры - PS3\" item category, corresponds to the largest source of revenue (12.13%). However, as the launch date of the PlayStation 4 is within the range of the daily sale records provided, the sales volume of this console, i.e., the \"Игровые консоли - PS4\" item category, is approximately four times larger than that of the PlayStation 3 (2.39%). Therefore, the sale of games for PS4 is expected to become the main source of revenue soon.\n",
    "\n",
    "In a like manner, there are also other interesting findings to highlight, namely:\n",
    "\n",
    "* The sales volume of games for the eighth-generation console of the PlayStation franchise is nine times larger than that of the Xbox franchise.\n",
    "* Concerning the sales of eighth-generation consoles, the PlayStation franchise sells approximately six times more than the Xbox franchise.\n",
    "* In view of the above, we unequivocally conclude that by October 2015 the eighth-generation console race was led by the PlayStation franchise.\n",
    "* One in three Russian Rubles, apparently the currency of the sale records provided, comes from selling items related to seventh- and eighth-generation consoles of the PlayStation franchise, both games as well as consoles themself.\n",
    "\n",
    "Lastly, please note that a left-click is required to zoom in the visualization, i.e., analyzing an item category. Instead, a right-click to zoom out the visualization, i.e., getting the main view."
   ]
  },
  {
   "cell_type": "code",
   "execution_count": null,
   "metadata": {},
   "outputs": [],
   "source": []
  }
 ],
 "metadata": {
  "kernelspec": {
   "display_name": "Python 3",
   "language": "python",
   "name": "python3"
  },
  "language_info": {
   "codemirror_mode": {
    "name": "ipython",
    "version": 3
   },
   "file_extension": ".py",
   "mimetype": "text/x-python",
   "name": "python",
   "nbconvert_exporter": "python",
   "pygments_lexer": "ipython3",
   "version": "3.7.4"
  }
 },
 "nbformat": 4,
 "nbformat_minor": 4
}
